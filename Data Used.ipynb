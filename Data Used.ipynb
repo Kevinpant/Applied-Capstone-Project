{
 "cells": [
  {
   "cell_type": "markdown",
   "metadata": {
    "collapsed": true
   },
   "source": [
    "# Data Used\n",
    "\n",
    "In this section I will be introducing the various Data sets being used that will help determine the perfect location for my client to set up his Business.\n",
    "\n",
    "The Localities of Toronto, Ontario from the Wikipedia page: https://en.wikipedia.org/wiki/List_of_postal_codes_of_Canada:_M.\n",
    "- From the provided wikipedia page I will extract relevant infornmation, particularly information regarding various Neighbourhoods, Boroughs and Postal Codes of the city of Toronto.\n",
    "\n",
    "The geographical coordinates of each postal code: http://cocl.us/Geospatial_data\n",
    " * Data regarding the coordinates i.e. (latitude & longitude) to the above Neighbourhoods of Toronto will be extracted from the above link.\n",
    "\n",
    "I will be using Foursquare for the most important part of the project, that is collecting data regarding the location. (Location Data)\n",
    "\n",
    "Foresquare will help me find the following :\n",
    "\n",
    "* Restaurants of nearby Neighbourhoods.\n",
    "* Office spaces  of nearby Neighbourhoods.\n",
    "* Schools  of nearby Neighbourhoods.\n",
    "* Colleges of nearby Neighbourhoods.\n",
    "\n",
    "Once we have all our data with us with the help of the Pandas library I will crerate a neat little Data Frame.\n",
    "\n",
    "Leveraging the Data Frame at hand I will determine which neighbourhood will be the most appropriate for my client to set up his restaurant."
   ]
  }
 ],
 "metadata": {
  "kernelspec": {
   "display_name": "Python 3.5",
   "language": "python",
   "name": "python3"
  },
  "language_info": {
   "codemirror_mode": {
    "name": "ipython",
    "version": 3
   },
   "file_extension": ".py",
   "mimetype": "text/x-python",
   "name": "python",
   "nbconvert_exporter": "python",
   "pygments_lexer": "ipython3",
   "version": "3.5.5"
  }
 },
 "nbformat": 4,
 "nbformat_minor": 1
}
