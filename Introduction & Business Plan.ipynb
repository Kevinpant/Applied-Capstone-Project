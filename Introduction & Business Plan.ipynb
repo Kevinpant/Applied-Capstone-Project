{
 "cells": [
  {
   "cell_type": "markdown",
   "metadata": {
    "collapsed": true
   },
   "source": [
    "# Introduction.\n",
    "\n",
    "A client wants to open a restaurant in the city on Torento, Ontario and has approached me to narrow down a locality in which he needs to set up his Business.\n",
    "Toronto covers an area of 630 square kilometres, with a maximum north–south distance of 21 kilometres and a maximum east–west distance of 43 km and is the fourth-most-populous North American city by population (2,826,498) which makes it a good location to set up Business.\n",
    "\n",
    "The province of Ontario has 24 publicly funded colleges and the city of Toronto has 451 elementary schools, 110 secondary schools, and 5 adult education schools educating over 289,577 students, additionally Toronto has a total of 103 neighbourhoods and my client wants to know what would be the most lucrative spot to set up shop.\n",
    "\n",
    "\n",
    "\n",
    "# Business Problem\n",
    "\n",
    "For a restaurant to flourish there are certain prerequisites that need to be fulfilled and the most important prerequisite is that of choosing the right location to set up shop and this precisely why my client has approached me.\n",
    "So our main Business Problem is that of choosing the right location.\n",
    "Now, for us to choose the right location we will be needing infromation about various neighbourhoods of Toronto.\n",
    "Choosing the right location implies setting up shop where \"Competition\" is relatively less and footfall is relatively more. In other words we got to find a location where population density is more and our immediate competitors are less.\n",
    "\n",
    "So our focus should be setting up shop in an area which has the following attributes :\n",
    "* Locality where there are relatively less number of Restaurants.\n",
    "* Locality close to Colleges, Schools and Work Places(Offices) as our main footfall will come from Students and Office personnel.\n",
    "\n",
    "In order to maximize profitability you gotta find the right *'Spot'* and my project does exactly the same."
   ]
  }
 ],
 "metadata": {
  "kernelspec": {
   "display_name": "Python 3.5",
   "language": "python",
   "name": "python3"
  },
  "language_info": {
   "codemirror_mode": {
    "name": "ipython",
    "version": 3
   },
   "file_extension": ".py",
   "mimetype": "text/x-python",
   "name": "python",
   "nbconvert_exporter": "python",
   "pygments_lexer": "ipython3",
   "version": "3.5.5"
  }
 },
 "nbformat": 4,
 "nbformat_minor": 1
}
